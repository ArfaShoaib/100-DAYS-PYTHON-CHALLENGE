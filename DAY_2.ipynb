{
  "nbformat": 4,
  "nbformat_minor": 0,
  "metadata": {
    "colab": {
      "provenance": [],
      "authorship_tag": "ABX9TyONsxW/imPZr4am5ZAeV/n+",
      "include_colab_link": true
    },
    "kernelspec": {
      "name": "python3",
      "display_name": "Python 3"
    },
    "language_info": {
      "name": "python"
    }
  },
  "cells": [
    {
      "cell_type": "markdown",
      "metadata": {
        "id": "view-in-github",
        "colab_type": "text"
      },
      "source": [
        "<a href=\"https://colab.research.google.com/github/ArfaShoaib/100-DAYS-PYTHON-CHALLENGE/blob/main/DAY_2.ipynb\" target=\"_parent\"><img src=\"https://colab.research.google.com/assets/colab-badge.svg\" alt=\"Open In Colab\"/></a>"
      ]
    },
    {
      "cell_type": "code",
      "execution_count": 3,
      "metadata": {
        "colab": {
          "base_uri": "https://localhost:8080/"
        },
        "id": "8zPfa8HcnQfW",
        "outputId": "7dc77d51-1137-4db3-fc7c-99740854f7bd"
      },
      "outputs": [
        {
          "output_type": "stream",
          "name": "stdout",
          "text": [
            "Enter Your Message : Pakistan Zindabad\n",
            " Pakistan Zindabad Has 2 Words\n"
          ]
        }
      ],
      "source": [
        "user_input = input(\"Enter Your Message : \")\n",
        "breaking_words = user_input.split()\n",
        "len_words = len(breaking_words)\n",
        "print(f\" {user_input} Has {len_words} Words\")"
      ]
    },
    {
      "cell_type": "code",
      "source": [
        "words = user_input.split()\n",
        "reversed_words = words.reverse()\n",
        "reversed_sentence = \" \".join(words)\n",
        "print(reversed_sentence)\n"
      ],
      "metadata": {
        "colab": {
          "base_uri": "https://localhost:8080/"
        },
        "id": "SbPuTxTOoWWr",
        "outputId": "a1892c1c-135e-44df-9788-d2cfe56e212b"
      },
      "execution_count": 4,
      "outputs": [
        {
          "output_type": "stream",
          "name": "stdout",
          "text": [
            "Zindabad Pakistan\n"
          ]
        }
      ]
    }
  ]
}