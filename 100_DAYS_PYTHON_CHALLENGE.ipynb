{
  "nbformat": 4,
  "nbformat_minor": 0,
  "metadata": {
    "colab": {
      "provenance": [],
      "authorship_tag": "ABX9TyMGvNY8ZZ7MO77AMPPY6jr4",
      "include_colab_link": true
    },
    "kernelspec": {
      "name": "python3",
      "display_name": "Python 3"
    },
    "language_info": {
      "name": "python"
    }
  },
  "cells": [
    {
      "cell_type": "markdown",
      "metadata": {
        "id": "view-in-github",
        "colab_type": "text"
      },
      "source": [
        "<a href=\"https://colab.research.google.com/github/ArfaShoaib/100-DAYS-PYTHON-CHALLENGE/blob/main/100_DAYS_PYTHON_CHALLENGE.ipynb\" target=\"_parent\"><img src=\"https://colab.research.google.com/assets/colab-badge.svg\" alt=\"Open In Colab\"/></a>"
      ]
    },
    {
      "cell_type": "markdown",
      "source": [
        "DAY 1 PYTHON CHALLENGE"
      ],
      "metadata": {
        "id": "HLLgKAaozsDW"
      }
    },
    {
      "cell_type": "code",
      "source": [
        "Message = \"Welcome To Day 1 Challenge\"\n",
        "print(Message)"
      ],
      "metadata": {
        "colab": {
          "base_uri": "https://localhost:8080/"
        },
        "id": "fzNnzmuCzxeS",
        "outputId": "7b8c5fe2-97d2-4f3b-9e25-2e78a3998aba"
      },
      "execution_count": 1,
      "outputs": [
        {
          "output_type": "stream",
          "name": "stdout",
          "text": [
            "Welcome To Day 1 Challenge\n"
          ]
        }
      ]
    }
  ]
}