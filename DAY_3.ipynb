{
  "nbformat": 4,
  "nbformat_minor": 0,
  "metadata": {
    "colab": {
      "provenance": [],
      "authorship_tag": "ABX9TyOxxSrtF7a6YFVVk+DAI2hm",
      "include_colab_link": true
    },
    "kernelspec": {
      "name": "python3",
      "display_name": "Python 3"
    },
    "language_info": {
      "name": "python"
    }
  },
  "cells": [
    {
      "cell_type": "markdown",
      "metadata": {
        "id": "view-in-github",
        "colab_type": "text"
      },
      "source": [
        "<a href=\"https://colab.research.google.com/github/ArfaShoaib/100-DAYS-PYTHON-CHALLENGE/blob/main/DAY_3.ipynb\" target=\"_parent\"><img src=\"https://colab.research.google.com/assets/colab-badge.svg\" alt=\"Open In Colab\"/></a>"
      ]
    },
    {
      "cell_type": "code",
      "execution_count": null,
      "metadata": {
        "colab": {
          "base_uri": "https://localhost:8080/"
        },
        "id": "AUCYsVStH1Gh",
        "outputId": "12b75cfe-5932-4acc-9975-5705cc5fbd01"
      },
      "outputs": [
        {
          "output_type": "stream",
          "name": "stdout",
          "text": [
            "Enter a number: 4\n",
            "4 is not a prime number\n"
          ]
        }
      ],
      "source": [
        "def prime_number(num):\n",
        "\n",
        "    if num < 2:\n",
        "      return False\n",
        "    for i in range(2, int(num ** 0.5) + 1):\n",
        "        if num % i == 0:\n",
        "            return False\n",
        "    return True\n",
        "\n",
        "\n",
        "\n",
        "\n",
        "\n",
        "\n",
        "\n",
        "#Take Input\n",
        "number = int(input(\"Enter a number: \"))\n",
        "\n",
        "#check if number is prime number\n",
        "if prime_number(number):\n",
        "  print(f\"{number} is a prime number\")\n",
        "else:\n",
        "  print(f\"{number} is not a prime number\")"
      ]
    }
  ]
}